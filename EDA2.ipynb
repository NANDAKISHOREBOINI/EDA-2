{
 "cells": [
  {
   "cell_type": "code",
   "execution_count": 182,
   "metadata": {
    "colab": {
     "base_uri": "https://localhost:8080/",
     "height": 617
    },
    "id": "IJXFMKSPP2TD",
    "outputId": "07f7fd7b-516f-47f4-e245-090d1d79c909"
   },
   "outputs": [
    {
     "data": {
      "text/html": [
       "<div>\n",
       "<style scoped>\n",
       "    .dataframe tbody tr th:only-of-type {\n",
       "        vertical-align: middle;\n",
       "    }\n",
       "\n",
       "    .dataframe tbody tr th {\n",
       "        vertical-align: top;\n",
       "    }\n",
       "\n",
       "    .dataframe thead th {\n",
       "        text-align: right;\n",
       "    }\n",
       "</style>\n",
       "<table border=\"1\" class=\"dataframe\">\n",
       "  <thead>\n",
       "    <tr style=\"text-align: right;\">\n",
       "      <th></th>\n",
       "      <th>age</th>\n",
       "      <th>workclass</th>\n",
       "      <th>fnlwgt</th>\n",
       "      <th>education</th>\n",
       "      <th>education_num</th>\n",
       "      <th>marital_status</th>\n",
       "      <th>occupation</th>\n",
       "      <th>relationship</th>\n",
       "      <th>race</th>\n",
       "      <th>sex</th>\n",
       "      <th>capital_gain</th>\n",
       "      <th>capital_loss</th>\n",
       "      <th>hours_per_week</th>\n",
       "      <th>native_country</th>\n",
       "      <th>income</th>\n",
       "    </tr>\n",
       "  </thead>\n",
       "  <tbody>\n",
       "    <tr>\n",
       "      <th>0</th>\n",
       "      <td>39</td>\n",
       "      <td>State-gov</td>\n",
       "      <td>77516</td>\n",
       "      <td>Bachelors</td>\n",
       "      <td>13</td>\n",
       "      <td>Never-married</td>\n",
       "      <td>Adm-clerical</td>\n",
       "      <td>Not-in-family</td>\n",
       "      <td>White</td>\n",
       "      <td>Male</td>\n",
       "      <td>2174</td>\n",
       "      <td>0</td>\n",
       "      <td>40</td>\n",
       "      <td>United-States</td>\n",
       "      <td>&lt;=50K</td>\n",
       "    </tr>\n",
       "    <tr>\n",
       "      <th>1</th>\n",
       "      <td>50</td>\n",
       "      <td>Self-emp-not-inc</td>\n",
       "      <td>83311</td>\n",
       "      <td>Bachelors</td>\n",
       "      <td>13</td>\n",
       "      <td>Married-civ-spouse</td>\n",
       "      <td>Exec-managerial</td>\n",
       "      <td>Husband</td>\n",
       "      <td>White</td>\n",
       "      <td>Male</td>\n",
       "      <td>0</td>\n",
       "      <td>0</td>\n",
       "      <td>13</td>\n",
       "      <td>United-States</td>\n",
       "      <td>&lt;=50K</td>\n",
       "    </tr>\n",
       "    <tr>\n",
       "      <th>2</th>\n",
       "      <td>38</td>\n",
       "      <td>Private</td>\n",
       "      <td>215646</td>\n",
       "      <td>HS-grad</td>\n",
       "      <td>9</td>\n",
       "      <td>Divorced</td>\n",
       "      <td>Handlers-cleaners</td>\n",
       "      <td>Not-in-family</td>\n",
       "      <td>White</td>\n",
       "      <td>Male</td>\n",
       "      <td>0</td>\n",
       "      <td>0</td>\n",
       "      <td>40</td>\n",
       "      <td>United-States</td>\n",
       "      <td>&lt;=50K</td>\n",
       "    </tr>\n",
       "    <tr>\n",
       "      <th>3</th>\n",
       "      <td>53</td>\n",
       "      <td>Private</td>\n",
       "      <td>234721</td>\n",
       "      <td>11th</td>\n",
       "      <td>7</td>\n",
       "      <td>Married-civ-spouse</td>\n",
       "      <td>Handlers-cleaners</td>\n",
       "      <td>Husband</td>\n",
       "      <td>Black</td>\n",
       "      <td>Male</td>\n",
       "      <td>0</td>\n",
       "      <td>0</td>\n",
       "      <td>40</td>\n",
       "      <td>United-States</td>\n",
       "      <td>&lt;=50K</td>\n",
       "    </tr>\n",
       "    <tr>\n",
       "      <th>4</th>\n",
       "      <td>28</td>\n",
       "      <td>Private</td>\n",
       "      <td>338409</td>\n",
       "      <td>Bachelors</td>\n",
       "      <td>13</td>\n",
       "      <td>Married-civ-spouse</td>\n",
       "      <td>Prof-specialty</td>\n",
       "      <td>Wife</td>\n",
       "      <td>Black</td>\n",
       "      <td>Female</td>\n",
       "      <td>0</td>\n",
       "      <td>0</td>\n",
       "      <td>40</td>\n",
       "      <td>Cuba</td>\n",
       "      <td>&lt;=50K</td>\n",
       "    </tr>\n",
       "    <tr>\n",
       "      <th>...</th>\n",
       "      <td>...</td>\n",
       "      <td>...</td>\n",
       "      <td>...</td>\n",
       "      <td>...</td>\n",
       "      <td>...</td>\n",
       "      <td>...</td>\n",
       "      <td>...</td>\n",
       "      <td>...</td>\n",
       "      <td>...</td>\n",
       "      <td>...</td>\n",
       "      <td>...</td>\n",
       "      <td>...</td>\n",
       "      <td>...</td>\n",
       "      <td>...</td>\n",
       "      <td>...</td>\n",
       "    </tr>\n",
       "    <tr>\n",
       "      <th>32556</th>\n",
       "      <td>27</td>\n",
       "      <td>Private</td>\n",
       "      <td>257302</td>\n",
       "      <td>Assoc-acdm</td>\n",
       "      <td>12</td>\n",
       "      <td>Married-civ-spouse</td>\n",
       "      <td>Tech-support</td>\n",
       "      <td>Wife</td>\n",
       "      <td>White</td>\n",
       "      <td>Female</td>\n",
       "      <td>0</td>\n",
       "      <td>0</td>\n",
       "      <td>38</td>\n",
       "      <td>United-States</td>\n",
       "      <td>&lt;=50K</td>\n",
       "    </tr>\n",
       "    <tr>\n",
       "      <th>32557</th>\n",
       "      <td>40</td>\n",
       "      <td>Private</td>\n",
       "      <td>154374</td>\n",
       "      <td>HS-grad</td>\n",
       "      <td>9</td>\n",
       "      <td>Married-civ-spouse</td>\n",
       "      <td>Machine-op-inspct</td>\n",
       "      <td>Husband</td>\n",
       "      <td>White</td>\n",
       "      <td>Male</td>\n",
       "      <td>0</td>\n",
       "      <td>0</td>\n",
       "      <td>40</td>\n",
       "      <td>United-States</td>\n",
       "      <td>&gt;50K</td>\n",
       "    </tr>\n",
       "    <tr>\n",
       "      <th>32558</th>\n",
       "      <td>58</td>\n",
       "      <td>Private</td>\n",
       "      <td>151910</td>\n",
       "      <td>HS-grad</td>\n",
       "      <td>9</td>\n",
       "      <td>Widowed</td>\n",
       "      <td>Adm-clerical</td>\n",
       "      <td>Unmarried</td>\n",
       "      <td>White</td>\n",
       "      <td>Female</td>\n",
       "      <td>0</td>\n",
       "      <td>0</td>\n",
       "      <td>40</td>\n",
       "      <td>United-States</td>\n",
       "      <td>&lt;=50K</td>\n",
       "    </tr>\n",
       "    <tr>\n",
       "      <th>32559</th>\n",
       "      <td>22</td>\n",
       "      <td>Private</td>\n",
       "      <td>201490</td>\n",
       "      <td>HS-grad</td>\n",
       "      <td>9</td>\n",
       "      <td>Never-married</td>\n",
       "      <td>Adm-clerical</td>\n",
       "      <td>Own-child</td>\n",
       "      <td>White</td>\n",
       "      <td>Male</td>\n",
       "      <td>0</td>\n",
       "      <td>0</td>\n",
       "      <td>20</td>\n",
       "      <td>United-States</td>\n",
       "      <td>&lt;=50K</td>\n",
       "    </tr>\n",
       "    <tr>\n",
       "      <th>32560</th>\n",
       "      <td>52</td>\n",
       "      <td>Self-emp-inc</td>\n",
       "      <td>287927</td>\n",
       "      <td>HS-grad</td>\n",
       "      <td>9</td>\n",
       "      <td>Married-civ-spouse</td>\n",
       "      <td>Exec-managerial</td>\n",
       "      <td>Wife</td>\n",
       "      <td>White</td>\n",
       "      <td>Female</td>\n",
       "      <td>15024</td>\n",
       "      <td>0</td>\n",
       "      <td>40</td>\n",
       "      <td>United-States</td>\n",
       "      <td>&gt;50K</td>\n",
       "    </tr>\n",
       "  </tbody>\n",
       "</table>\n",
       "<p>32561 rows × 15 columns</p>\n",
       "</div>"
      ],
      "text/plain": [
       "       age          workclass  fnlwgt    education  education_num  \\\n",
       "0       39          State-gov   77516    Bachelors             13   \n",
       "1       50   Self-emp-not-inc   83311    Bachelors             13   \n",
       "2       38            Private  215646      HS-grad              9   \n",
       "3       53            Private  234721         11th              7   \n",
       "4       28            Private  338409    Bachelors             13   \n",
       "...    ...                ...     ...          ...            ...   \n",
       "32556   27            Private  257302   Assoc-acdm             12   \n",
       "32557   40            Private  154374      HS-grad              9   \n",
       "32558   58            Private  151910      HS-grad              9   \n",
       "32559   22            Private  201490      HS-grad              9   \n",
       "32560   52       Self-emp-inc  287927      HS-grad              9   \n",
       "\n",
       "            marital_status          occupation    relationship    race  \\\n",
       "0            Never-married        Adm-clerical   Not-in-family   White   \n",
       "1       Married-civ-spouse     Exec-managerial         Husband   White   \n",
       "2                 Divorced   Handlers-cleaners   Not-in-family   White   \n",
       "3       Married-civ-spouse   Handlers-cleaners         Husband   Black   \n",
       "4       Married-civ-spouse      Prof-specialty            Wife   Black   \n",
       "...                    ...                 ...             ...     ...   \n",
       "32556   Married-civ-spouse        Tech-support            Wife   White   \n",
       "32557   Married-civ-spouse   Machine-op-inspct         Husband   White   \n",
       "32558              Widowed        Adm-clerical       Unmarried   White   \n",
       "32559        Never-married        Adm-clerical       Own-child   White   \n",
       "32560   Married-civ-spouse     Exec-managerial            Wife   White   \n",
       "\n",
       "           sex  capital_gain  capital_loss  hours_per_week  native_country  \\\n",
       "0         Male          2174             0              40   United-States   \n",
       "1         Male             0             0              13   United-States   \n",
       "2         Male             0             0              40   United-States   \n",
       "3         Male             0             0              40   United-States   \n",
       "4       Female             0             0              40            Cuba   \n",
       "...        ...           ...           ...             ...             ...   \n",
       "32556   Female             0             0              38   United-States   \n",
       "32557     Male             0             0              40   United-States   \n",
       "32558   Female             0             0              40   United-States   \n",
       "32559     Male             0             0              20   United-States   \n",
       "32560   Female         15024             0              40   United-States   \n",
       "\n",
       "       income  \n",
       "0       <=50K  \n",
       "1       <=50K  \n",
       "2       <=50K  \n",
       "3       <=50K  \n",
       "4       <=50K  \n",
       "...       ...  \n",
       "32556   <=50K  \n",
       "32557    >50K  \n",
       "32558   <=50K  \n",
       "32559   <=50K  \n",
       "32560    >50K  \n",
       "\n",
       "[32561 rows x 15 columns]"
      ]
     },
     "execution_count": 182,
     "metadata": {},
     "output_type": "execute_result"
    }
   ],
   "source": [
    "import numpy as np\n",
    "import pandas as pd\n",
    "import matplotlib.pyplot as plt\n",
    "import seaborn as sns\n",
    "plt.style.use('dark_background')\n",
    "\n",
    "\n",
    "data= pd.read_csv(\"C:\\\\Users\\\\NANDAKISHORE BOINI\\\\OneDrive\\\\Desktop\\\\adult_with_headers.csv\")\n",
    "data\n"
   ]
  },
  {
   "cell_type": "code",
   "execution_count": 183,
   "metadata": {
    "colab": {
     "base_uri": "https://localhost:8080/"
    },
    "id": "7u7rZqeMSZm1",
    "outputId": "e9b742cc-9893-4a1d-f4c2-d4750350c2ac"
   },
   "outputs": [
    {
     "name": "stdout",
     "output_type": "stream",
     "text": [
      "<class 'pandas.core.frame.DataFrame'>\n",
      "RangeIndex: 32561 entries, 0 to 32560\n",
      "Data columns (total 15 columns):\n",
      " #   Column          Non-Null Count  Dtype \n",
      "---  ------          --------------  ----- \n",
      " 0   age             32561 non-null  int64 \n",
      " 1   workclass       32561 non-null  object\n",
      " 2   fnlwgt          32561 non-null  int64 \n",
      " 3   education       32561 non-null  object\n",
      " 4   education_num   32561 non-null  int64 \n",
      " 5   marital_status  32561 non-null  object\n",
      " 6   occupation      32561 non-null  object\n",
      " 7   relationship    32561 non-null  object\n",
      " 8   race            32561 non-null  object\n",
      " 9   sex             32561 non-null  object\n",
      " 10  capital_gain    32561 non-null  int64 \n",
      " 11  capital_loss    32561 non-null  int64 \n",
      " 12  hours_per_week  32561 non-null  int64 \n",
      " 13  native_country  32561 non-null  object\n",
      " 14  income          32561 non-null  object\n",
      "dtypes: int64(6), object(9)\n",
      "memory usage: 3.7+ MB\n"
     ]
    }
   ],
   "source": [
    "data.info()\n"
   ]
  },
  {
   "cell_type": "code",
   "execution_count": 184,
   "metadata": {
    "colab": {
     "base_uri": "https://localhost:8080/"
    },
    "id": "q-54y4TiQ0_0",
    "outputId": "1d872040-e812-4c05-9c86-377354b4cd21"
   },
   "outputs": [
    {
     "name": "stdout",
     "output_type": "stream",
     "text": [
      "                age        fnlwgt  education_num  capital_gain  capital_loss  \\\n",
      "count  32561.000000  3.256100e+04   32561.000000  32561.000000  32561.000000   \n",
      "mean      38.581647  1.897784e+05      10.080679   1077.648844     87.303830   \n",
      "std       13.640433  1.055500e+05       2.572720   7385.292085    402.960219   \n",
      "min       17.000000  1.228500e+04       1.000000      0.000000      0.000000   \n",
      "25%       28.000000  1.178270e+05       9.000000      0.000000      0.000000   \n",
      "50%       37.000000  1.783560e+05      10.000000      0.000000      0.000000   \n",
      "75%       48.000000  2.370510e+05      12.000000      0.000000      0.000000   \n",
      "max       90.000000  1.484705e+06      16.000000  99999.000000   4356.000000   \n",
      "\n",
      "       hours_per_week  \n",
      "count    32561.000000  \n",
      "mean        40.437456  \n",
      "std         12.347429  \n",
      "min          1.000000  \n",
      "25%         40.000000  \n",
      "50%         40.000000  \n",
      "75%         45.000000  \n",
      "max         99.000000  \n",
      "\n",
      "Missing values per column:\n",
      " age               0\n",
      "workclass         0\n",
      "fnlwgt            0\n",
      "education         0\n",
      "education_num     0\n",
      "marital_status    0\n",
      "occupation        0\n",
      "relationship      0\n",
      "race              0\n",
      "sex               0\n",
      "capital_gain      0\n",
      "capital_loss      0\n",
      "hours_per_week    0\n",
      "native_country    0\n",
      "income            0\n",
      "dtype: int64\n",
      "\n",
      "Data types:\n",
      " age                int64\n",
      "workclass         object\n",
      "fnlwgt             int64\n",
      "education         object\n",
      "education_num      int64\n",
      "marital_status    object\n",
      "occupation        object\n",
      "relationship      object\n",
      "race              object\n",
      "sex               object\n",
      "capital_gain       int64\n",
      "capital_loss       int64\n",
      "hours_per_week     int64\n",
      "native_country    object\n",
      "income            object\n",
      "dtype: object\n"
     ]
    }
   ],
   "source": [
    "# Summary statistics\n",
    "print(data.describe())\n",
    "\n",
    "# Missing values\n",
    "print(\"\\nMissing values per column:\\n\", data.isnull().sum())\n",
    "\n",
    "# Data types\n",
    "print(\"\\nData types:\\n\", data.dtypes)\n"
   ]
  },
  {
   "cell_type": "code",
   "execution_count": 185,
   "metadata": {
    "colab": {
     "base_uri": "https://localhost:8080/",
     "height": 147
    },
    "id": "KUtMMiqTXEU-",
    "outputId": "fb7180e3-d606-4719-b120-60af6a89069d"
   },
   "outputs": [
    {
     "data": {
      "text/plain": [
       "income\n",
       "<=50K    24720\n",
       ">50K      7841\n",
       "Name: count, dtype: int64"
      ]
     },
     "execution_count": 185,
     "metadata": {},
     "output_type": "execute_result"
    }
   ],
   "source": [
    "data['income'].value_counts()"
   ]
  },
  {
   "cell_type": "code",
   "execution_count": 186,
   "metadata": {
    "colab": {
     "base_uri": "https://localhost:8080/",
     "height": 147
    },
    "id": "nunI-A3JXPP2",
    "outputId": "367a94c2-262e-4c57-9313-c70c1baff729"
   },
   "outputs": [
    {
     "data": {
      "text/plain": [
       "sex\n",
       "Male      21790\n",
       "Female    10771\n",
       "Name: count, dtype: int64"
      ]
     },
     "execution_count": 186,
     "metadata": {},
     "output_type": "execute_result"
    }
   ],
   "source": [
    "data['sex'].value_counts()"
   ]
  },
  {
   "cell_type": "code",
   "execution_count": 187,
   "metadata": {
    "colab": {
     "base_uri": "https://localhost:8080/",
     "height": 1000
    },
    "id": "0Nfog1c3XWoD",
    "outputId": "6d62e53f-68fd-42ff-cf49-017157130790"
   },
   "outputs": [
    {
     "data": {
      "text/plain": [
       "native_country\n",
       "United-States                 29170\n",
       "Mexico                          643\n",
       "?                               583\n",
       "Philippines                     198\n",
       "Germany                         137\n",
       "Canada                          121\n",
       "Puerto-Rico                     114\n",
       "El-Salvador                     106\n",
       "India                           100\n",
       "Cuba                             95\n",
       "England                          90\n",
       "Jamaica                          81\n",
       "South                            80\n",
       "China                            75\n",
       "Italy                            73\n",
       "Dominican-Republic               70\n",
       "Vietnam                          67\n",
       "Guatemala                        64\n",
       "Japan                            62\n",
       "Poland                           60\n",
       "Columbia                         59\n",
       "Taiwan                           51\n",
       "Haiti                            44\n",
       "Iran                             43\n",
       "Portugal                         37\n",
       "Nicaragua                        34\n",
       "Peru                             31\n",
       "France                           29\n",
       "Greece                           29\n",
       "Ecuador                          28\n",
       "Ireland                          24\n",
       "Hong                             20\n",
       "Cambodia                         19\n",
       "Trinadad&Tobago                  19\n",
       "Laos                             18\n",
       "Thailand                         18\n",
       "Yugoslavia                       16\n",
       "Outlying-US(Guam-USVI-etc)       14\n",
       "Honduras                         13\n",
       "Hungary                          13\n",
       "Scotland                         12\n",
       "Holand-Netherlands                1\n",
       "Name: count, dtype: int64"
      ]
     },
     "execution_count": 187,
     "metadata": {},
     "output_type": "execute_result"
    }
   ],
   "source": [
    "data['native_country'].value_counts()"
   ]
  },
  {
   "cell_type": "code",
   "execution_count": 188,
   "metadata": {
    "colab": {
     "base_uri": "https://localhost:8080/",
     "height": 366
    },
    "id": "24djKTP8Xdfx",
    "outputId": "01f3c78b-8646-4528-8658-b1b768ef9755"
   },
   "outputs": [
    {
     "data": {
      "text/plain": [
       "workclass\n",
       "Private             22696\n",
       "Self-emp-not-inc     2541\n",
       "Local-gov            2093\n",
       "?                    1836\n",
       "State-gov            1298\n",
       "Self-emp-inc         1116\n",
       "Federal-gov           960\n",
       "Without-pay            14\n",
       "Never-worked            7\n",
       "Name: count, dtype: int64"
      ]
     },
     "execution_count": 188,
     "metadata": {},
     "output_type": "execute_result"
    }
   ],
   "source": [
    "data['workclass'].value_counts()"
   ]
  },
  {
   "cell_type": "code",
   "execution_count": 189,
   "metadata": {
    "colab": {
     "base_uri": "https://localhost:8080/",
     "height": 554
    },
    "id": "cUO6MFXIXlJ_",
    "outputId": "c3c3ba2c-b940-474d-ce9e-3e7424e10778"
   },
   "outputs": [
    {
     "data": {
      "text/plain": [
       "occupation\n",
       "Prof-specialty       4140\n",
       "Craft-repair         4099\n",
       "Exec-managerial      4066\n",
       "Adm-clerical         3770\n",
       "Sales                3650\n",
       "Other-service        3295\n",
       "Machine-op-inspct    2002\n",
       "?                    1843\n",
       "Transport-moving     1597\n",
       "Handlers-cleaners    1370\n",
       "Farming-fishing       994\n",
       "Tech-support          928\n",
       "Protective-serv       649\n",
       "Priv-house-serv       149\n",
       "Armed-Forces            9\n",
       "Name: count, dtype: int64"
      ]
     },
     "execution_count": 189,
     "metadata": {},
     "output_type": "execute_result"
    }
   ],
   "source": [
    "data['occupation'].value_counts()"
   ]
  },
  {
   "cell_type": "code",
   "execution_count": 190,
   "metadata": {
    "colab": {
     "base_uri": "https://localhost:8080/"
    },
    "id": "5GSTaihrRaVq",
    "outputId": "25f15ba6-f046-4528-dc41-fa4c99f55866"
   },
   "outputs": [
    {
     "name": "stdout",
     "output_type": "stream",
     "text": [
      "\n",
      "Missing values per column:\n",
      " age               0\n",
      "workclass         0\n",
      "fnlwgt            0\n",
      "education         0\n",
      "education_num     0\n",
      "marital_status    0\n",
      "occupation        0\n",
      "relationship      0\n",
      "race              0\n",
      "sex               0\n",
      "capital_gain      0\n",
      "capital_loss      0\n",
      "hours_per_week    0\n",
      "native_country    0\n",
      "income            0\n",
      "dtype: int64\n",
      "\n",
      "Missing values per column (after handling):\n",
      " age               0\n",
      "workclass         0\n",
      "fnlwgt            0\n",
      "education         0\n",
      "education_num     0\n",
      "marital_status    0\n",
      "occupation        0\n",
      "relationship      0\n",
      "race              0\n",
      "sex               0\n",
      "capital_gain      0\n",
      "capital_loss      0\n",
      "hours_per_week    0\n",
      "native_country    0\n",
      "income            0\n",
      "dtype: int64\n"
     ]
    }
   ],
   "source": [
    "# Check for missing values again (we already did this, but it's good practice to repeat after handling them)\n",
    "print(\"\\nMissing values per column:\\n\", data.isnull().sum())\n",
    "\n",
    "# For categorical features, we can replace missing values with the most frequent value (mode)\n",
    "for column in data.select_dtypes(include=['object']):\n",
    "  if data[column].isnull().any():\n",
    "    data[column].fillna(data[column].mode()[0], inplace=True)\n",
    "\n",
    "\n",
    "# For numerical features, we can replace missing values with the mean or median\n",
    "for column in data.select_dtypes(include=['int64', 'float64']):\n",
    "  if data[column].isnull().any():\n",
    "    data[column].fillna(data[column].mean(), inplace=True)\n",
    "\n",
    "# Check for missing values again after handling them\n",
    "print(\"\\nMissing values per column (after handling):\\n\", data.isnull().sum())\n",
    "\n"
   ]
  },
  {
   "cell_type": "code",
   "execution_count": null,
   "metadata": {
    "id": "KL1JN-nJXvUs"
   },
   "outputs": [],
   "source": []
  },
  {
   "cell_type": "code",
   "execution_count": 191,
   "metadata": {
    "colab": {
     "base_uri": "https://localhost:8080/"
    },
    "id": "VoIZNNHLRtRQ",
    "outputId": "8d3e2d17-2b43-4c90-d198-535a6c258596"
   },
   "outputs": [
    {
     "name": "stdout",
     "output_type": "stream",
     "text": [
      "\n",
      "Standard Scaled Data:\n",
      "         age    fnlwgt  education_num  capital_gain  capital_loss  \\\n",
      "0  0.030671 -1.063611       1.134739      0.148453      -0.21666   \n",
      "1  0.837109 -1.008707       1.134739     -0.145920      -0.21666   \n",
      "2 -0.042642  0.245079      -0.420060     -0.145920      -0.21666   \n",
      "3  1.057047  0.425801      -1.197459     -0.145920      -0.21666   \n",
      "4 -0.775768  1.408176       1.134739     -0.145920      -0.21666   \n",
      "\n",
      "   hours_per_week  \n",
      "0       -0.035429  \n",
      "1       -2.222153  \n",
      "2       -0.035429  \n",
      "3       -0.035429  \n",
      "4       -0.035429  \n",
      "\n",
      "Min-Max Scaled Data:\n",
      "         age    fnlwgt  education_num  capital_gain  capital_loss  \\\n",
      "0  0.301370  0.044302       0.800000       0.02174           0.0   \n",
      "1  0.452055  0.048238       0.800000       0.00000           0.0   \n",
      "2  0.287671  0.138113       0.533333       0.00000           0.0   \n",
      "3  0.493151  0.151068       0.400000       0.00000           0.0   \n",
      "4  0.150685  0.221488       0.800000       0.00000           0.0   \n",
      "\n",
      "   hours_per_week  \n",
      "0        0.397959  \n",
      "1        0.122449  \n",
      "2        0.397959  \n",
      "3        0.397959  \n",
      "4        0.397959  \n"
     ]
    }
   ],
   "source": [
    "# •\tStandard Scaling\n",
    "# •\tMin-Max Scaling\n",
    "\n",
    "import pandas as pd\n",
    "from sklearn.preprocessing import StandardScaler, MinMaxScaler\n",
    "\n",
    "# Separate numerical features\n",
    "numerical_features = data.select_dtypes(include=['int64', 'float64'])\n",
    "\n",
    "# Standard Scaling\n",
    "scaler = StandardScaler()\n",
    "scaled_data_standard = scaler.fit_transform(numerical_features)\n",
    "scaled_data_standard_df = pd.DataFrame(scaled_data_standard, columns=numerical_features.columns)\n",
    "\n",
    "# Min-Max Scaling\n",
    "scaler = MinMaxScaler()\n",
    "scaled_data_minmax = scaler.fit_transform(numerical_features)\n",
    "scaled_data_minmax_df = pd.DataFrame(scaled_data_minmax, columns=numerical_features.columns)\n",
    "\n",
    "\n",
    "print(\"\\nStandard Scaled Data:\\n\", scaled_data_standard_df.head())\n",
    "print(\"\\nMin-Max Scaled Data:\\n\", scaled_data_minmax_df.head())\n"
   ]
  },
  {
   "cell_type": "code",
   "execution_count": 192,
   "metadata": {
    "id": "JFw5HgprR34d"
   },
   "outputs": [],
   "source": [
    "# In Summary:\n",
    "# - Standard scaling is generally preferred when the data is normally distributed and the algorithm is sensitive to feature scales.\n",
    "# - Min-max scaling is preferred when the data is not normally distributed, and the algorithm is not sensitive to feature scales or when you need to scale the data to a specific range.\n",
    "# - It's important to consider the specific characteristics of your data and the algorithm you plan to use to determine which scaling technique is most appropriate.\n"
   ]
  },
  {
   "cell_type": "code",
   "execution_count": 193,
   "metadata": {
    "colab": {
     "base_uri": "https://localhost:8080/",
     "height": 466
    },
    "id": "G_siUwxIboio",
    "outputId": "e9712ea5-4057-48b6-f7e3-324eafba0b7f"
   },
   "outputs": [
    {
     "data": {
      "text/plain": [
       "<Axes: xlabel='income', ylabel='age'>"
      ]
     },
     "execution_count": 193,
     "metadata": {},
     "output_type": "execute_result"
    },
    {
     "data": {
      "image/png": "[encoded data removed]",
      "text/plain": [
       "<Figure size 640x480 with 1 Axes>"
      ]
     },
     "metadata": {},
     "output_type": "display_data"
    }
   ],
   "source": [
    "sns.barplot(x = 'income', y = 'age', data=data)"
   ]
  },
  {
   "cell_type": "code",
   "execution_count": null,
   "metadata": {
    "colab": {
     "base_uri": "https://localhost:8080/",
     "height": 742
    },
    "id": "JGIWaZ1beUGn",
    "outputId": "553a012d-e9b8-4484-b216-6138d5e0ded0"
   },
   "outputs": [],
   "source": []
  },
  {
   "cell_type": "code",
   "execution_count": 194,
   "metadata": {
    "colab": {
     "base_uri": "https://localhost:8080/"
    },
    "id": "2t1AYXILSI2l",
    "outputId": "f4427cff-87a2-4195-e79b-2d6e640b314b"
   },
   "outputs": [
    {
     "name": "stdout",
     "output_type": "stream",
     "text": [
      "\n",
      "Data after one-hot encoding:\n",
      "    age          workclass  fnlwgt   education  education_num  \\\n",
      "0   39          State-gov   77516   Bachelors             13   \n",
      "1   50   Self-emp-not-inc   83311   Bachelors             13   \n",
      "2   38            Private  215646     HS-grad              9   \n",
      "3   53            Private  234721        11th              7   \n",
      "4   28            Private  338409   Bachelors             13   \n",
      "\n",
      "        marital_status          occupation    relationship    race  \\\n",
      "0        Never-married        Adm-clerical   Not-in-family   White   \n",
      "1   Married-civ-spouse     Exec-managerial         Husband   White   \n",
      "2             Divorced   Handlers-cleaners   Not-in-family   White   \n",
      "3   Married-civ-spouse   Handlers-cleaners         Husband   Black   \n",
      "4   Married-civ-spouse      Prof-specialty            Wife   Black   \n",
      "\n",
      "   capital_gain  capital_loss  hours_per_week  native_country  sex_ Female  \\\n",
      "0          2174             0              40   United-States        False   \n",
      "1             0             0              13   United-States        False   \n",
      "2             0             0              40   United-States        False   \n",
      "3             0             0              40   United-States        False   \n",
      "4             0             0              40            Cuba         True   \n",
      "\n",
      "   sex_ Male  income_ <=50K  income_ >50K  \n",
      "0       True           True         False  \n",
      "1       True           True         False  \n",
      "2       True           True         False  \n",
      "3       True           True         False  \n",
      "4      False           True         False  \n"
     ]
    }
   ],
   "source": [
    "import pandas as pd\n",
    "# Apply One-Hot Encoding to categorical variables with less than 5 categories\n",
    "\n",
    "# Select categorical features\n",
    "categorical_features = data.select_dtypes(include=['object'])\n",
    "\n",
    "# Iterate through categorical features\n",
    "for column in categorical_features:\n",
    "  if data[column].nunique() < 5:  # Check if the number of unique categories is less than 5\n",
    "    one_hot_encoded = pd.get_dummies(data[column], prefix=column)\n",
    "    data = pd.concat([data, one_hot_encoded], axis=1)\n",
    "    data.drop(column, axis=1, inplace=True)  # Remove the original categorical column\n",
    "\n",
    "print(\"\\nData after one-hot encoding:\\n\", data.head())\n"
   ]
  },
  {
   "cell_type": "code",
   "execution_count": 195,
   "metadata": {
    "colab": {
     "base_uri": "https://localhost:8080/"
    },
    "id": "3hzycG2pSvJz",
    "outputId": "7d59ba96-4cb1-43d1-cef5-8cdd34c3fb9c"
   },
   "outputs": [
    {
     "name": "stdout",
     "output_type": "stream",
     "text": [
      "\n",
      "Data after label encoding:\n",
      "    age  workclass  fnlwgt   education  education_num  marital_status  \\\n",
      "0   39          7   77516   Bachelors             12               4   \n",
      "1   50          6   83311   Bachelors             12               2   \n",
      "2   38          4  215646     HS-grad              8               0   \n",
      "3   53          4  234721        11th              6               2   \n",
      "4   28          4  338409   Bachelors             12               2   \n",
      "\n",
      "   occupation  relationship  race  capital_gain  capital_loss  hours_per_week  \\\n",
      "0           1             1     4          2174             0              40   \n",
      "1           4             0     4             0             0              13   \n",
      "2           6             1     4             0             0              40   \n",
      "3           6             0     2             0             0              40   \n",
      "4          10             5     2             0             0              40   \n",
      "\n",
      "   native_country  sex_ Female  sex_ Male  income_ <=50K  income_ >50K  \n",
      "0              39        False       True           True         False  \n",
      "1              39        False       True           True         False  \n",
      "2              39        False       True           True         False  \n",
      "3              39        False       True           True         False  \n",
      "4               5         True      False           True         False  \n"
     ]
    }
   ],
   "source": [
    "from sklearn.preprocessing import LabelEncoder\n",
    "# Select categorical features\n",
    "categorical_features = ['workclass','education_num','marital_status','occupation','relationship','race','native_country']\n",
    "\n",
    "# Iterate through categorical features\n",
    "for column in categorical_features:\n",
    "  if data[column].nunique() >= 5:  # Check if the number of unique categories is more than 5\n",
    "    label_encoder = LabelEncoder()\n",
    "    data[column] = label_encoder.fit_transform(data[column])\n",
    "\n",
    "print(\"\\nData after label encoding:\\n\", data.head())\n"
   ]
  },
  {
   "cell_type": "code",
   "execution_count": 196,
   "metadata": {
    "id": "mliU2Y68TEl3"
   },
   "outputs": [],
   "source": [
    "\n",
    "# - Choose One-Hot Encoding when:\n",
    "#   - You have nominal variables with no clear order.\n",
    "#   - The number of categories is not too large.\n",
    "#   - You want to avoid introducing an artificial order.\n",
    "\n",
    "# - Choose Label Encoding when:\n",
    "#   - You have ordinal variables with a clear order.\n",
    "#   - You want to reduce dimensionality.\n",
    "#   - You are using algorithms that are not sensitive to the numerical relationship between categories.\n"
   ]
  },
  {
   "cell_type": "code",
   "execution_count": 197,
   "metadata": {
    "colab": {
     "base_uri": "https://localhost:8080/"
    },
    "id": "WZ-xQsClTNbh",
    "outputId": "b5b5cd88-7779-44af-b494-261232279bda"
   },
   "outputs": [
    {
     "name": "stdout",
     "output_type": "stream",
     "text": [
      "\n",
      "Data after adding new features:\n",
      "    age  workclass  fnlwgt   education  education_num  marital_status  \\\n",
      "0   39          7   77516   Bachelors             12               4   \n",
      "1   50          6   83311   Bachelors             12               2   \n",
      "2   38          4  215646     HS-grad              8               0   \n",
      "3   53          4  234721        11th              6               2   \n",
      "4   28          4  338409   Bachelors             12               2   \n",
      "\n",
      "   occupation  relationship  race  capital_gain  capital_loss  hours_per_week  \\\n",
      "0           1             1     4          2174             0              40   \n",
      "1           4             0     4             0             0              13   \n",
      "2           6             1     4             0             0              40   \n",
      "3           6             0     2             0             0              40   \n",
      "4          10             5     2             0             0              40   \n",
      "\n",
      "   native_country  sex_ Female  sex_ Male  income_ <=50K  income_ >50K  \\\n",
      "0              39        False       True           True         False   \n",
      "1              39        False       True           True         False   \n",
      "2              39        False       True           True         False   \n",
      "3              39        False       True           True         False   \n",
      "4               5         True      False           True         False   \n",
      "\n",
      "   Capital-Gain-to-Hours-Worked-Ratio  Age-Education-Interaction  \n",
      "0                               54.35                        468  \n",
      "1                                0.00                        600  \n",
      "2                                0.00                        304  \n",
      "3                                0.00                        318  \n",
      "4                                0.00                        336  \n"
     ]
    }
   ],
   "source": [
    "# Create a new feature: \"Capital-Gain-to-Hours-Worked-Ratio\"\n",
    "data['Capital-Gain-to-Hours-Worked-Ratio'] = data['capital_gain'] / data['hours_per_week']\n",
    "\n",
    "# Rationale:\n",
    "# This feature can capture the relationship between an individual's capital gain and their work effort.\n",
    "# A higher ratio could potentially indicate individuals who are more successful in generating capital gains relative to their working hours.\n",
    "\n",
    "# Create a new feature: \"Age-Education-Interaction\"\n",
    "data['Age-Education-Interaction'] = data['age'] * data['education_num']\n",
    "\n",
    "# Rationale:\n",
    "# This feature captures the combined effect of age and education level on an individual's potential income or career prospects.\n",
    "# Individuals with higher age and education might have more experience and skills, potentially leading to higher earnings.\n",
    "\n",
    "\n",
    "# Display the first few rows of the dataset with the new features\n",
    "print(\"\\nData after adding new features:\\n\", data.head())\n"
   ]
  },
  {
   "cell_type": "code",
   "execution_count": 198,
   "metadata": {
    "colab": {
     "base_uri": "https://localhost:8080/"
    },
    "id": "WJTFWcRTT3_W",
    "outputId": "700bb259-731f-4d5c-e512-249df35713a4"
   },
   "outputs": [
    {
     "name": "stdout",
     "output_type": "stream",
     "text": [
      "Skewness of numerical features:\n",
      " age                                    0.558743\n",
      "fnlwgt                                 1.446980\n",
      "education_num                         -0.311676\n",
      "capital_gain                          11.953848\n",
      "capital_loss                           4.594629\n",
      "hours_per_week                         0.227643\n",
      "Capital-Gain-to-Hours-Worked-Ratio    20.129612\n",
      "Age-Education-Interaction              0.820962\n",
      "dtype: float64\n",
      "\n",
      "Data after log transformation:\n",
      "    age  workclass  fnlwgt   education  education_num  marital_status  \\\n",
      "0   39          7   77516   Bachelors             12               4   \n",
      "1   50          6   83311   Bachelors             12               2   \n",
      "2   38          4  215646     HS-grad              8               0   \n",
      "3   53          4  234721        11th              6               2   \n",
      "4   28          4  338409   Bachelors             12               2   \n",
      "\n",
      "   occupation  relationship  race  capital_loss  hours_per_week  \\\n",
      "0           1             1     4             0              40   \n",
      "1           4             0     4             0              13   \n",
      "2           6             1     4             0              40   \n",
      "3           6             0     2             0              40   \n",
      "4          10             5     2             0              40   \n",
      "\n",
      "   native_country  sex_ Female  sex_ Male  income_ <=50K  income_ >50K  \\\n",
      "0              39        False       True           True         False   \n",
      "1              39        False       True           True         False   \n",
      "2              39        False       True           True         False   \n",
      "3              39        False       True           True         False   \n",
      "4               5         True      False           True         False   \n",
      "\n",
      "   Capital-Gain-to-Hours-Worked-Ratio  Age-Education-Interaction  \\\n",
      "0                               54.35                        468   \n",
      "1                                0.00                        600   \n",
      "2                                0.00                        304   \n",
      "3                                0.00                        318   \n",
      "4                                0.00                        336   \n",
      "\n",
      "   capital_gain_log  \n",
      "0          7.684784  \n",
      "1          0.000000  \n",
      "2          0.000000  \n",
      "3          0.000000  \n",
      "4          0.000000  \n"
     ]
    }
   ],
   "source": [
    "import numpy as np\n",
    "# Analyze the skewness of numerical features\n",
    "numerical_features = data.select_dtypes(include=['int64', 'float64'])\n",
    "skewness = numerical_features.skew()\n",
    "print(\"Skewness of numerical features:\\n\", skewness)\n",
    "\n",
    "# Apply log transformation to 'capital_gain' (if skewed)\n",
    "if abs(skewness['capital_gain']) > 1:  # Threshold for considering a feature skewed\n",
    "    data['capital_gain_log'] = np.log1p(data['capital_gain'])\n",
    "    # Remove the original 'capital_gain' column\n",
    "    data.drop('capital_gain', axis=1, inplace=True)\n",
    "\n",
    "# Justification:\n",
    "# The 'capital_gain' feature often exhibits a highly skewed distribution with a long right tail.\n",
    "# Log transformation is suitable for handling right-skewed data as it compresses the range of large values, thus reducing the impact of outliers and making the distribution more approximately normal.\n",
    "# This can improve the performance of certain algorithms that assume a normal distribution or are sensitive to outliers.\n",
    "\n",
    "# Display the first few rows of the dataset with the log-transformed feature\n",
    "print(\"\\nData after log transformation:\\n\", data.head())\n"
   ]
  },
  {
   "cell_type": "code",
   "execution_count": 199,
   "metadata": {
    "colab": {
     "base_uri": "https://localhost:8080/"
    },
    "id": "iuX6eP-KUFK3",
    "outputId": "702d65cc-5ef2-4d85-c3ec-a8793a4be1a8"
   },
   "outputs": [
    {
     "name": "stdout",
     "output_type": "stream",
     "text": [
      "Shape of the data before removing outliers: (32561, 19)\n",
      "Shape of the data after removing outliers: (28212, 19)\n"
     ]
    }
   ],
   "source": [
    "from sklearn.ensemble import IsolationForest\n",
    "\n",
    "# Select numerical features for outlier detection\n",
    "numerical_features = data.select_dtypes(include=['int64', 'float64'])\n",
    "\n",
    "# Create an IsolationForest model\n",
    "model = IsolationForest(contamination='auto', random_state=42)\n",
    "\n",
    "# Fit the model to your data\n",
    "model.fit(numerical_features)\n",
    "\n",
    "# Predict outliers (-1 for outliers, 1 for inliers)\n",
    "outlier_predictions = model.predict(numerical_features)\n",
    "\n",
    "# Remove outliers\n",
    "data_without_outliers = data[outlier_predictions == 1]\n",
    "\n",
    "\n",
    "# Print the shape of the data before and after removing outliers\n",
    "print(f\"Shape of the data before removing outliers: {data.shape}\")\n",
    "print(f\"Shape of the data after removing outliers: {data_without_outliers.shape}\")\n"
   ]
  },
  {
   "cell_type": "code",
   "execution_count": null,
   "metadata": {},
   "outputs": [],
   "source": []
  },
  {
   "cell_type": "code",
   "execution_count": null,
   "metadata": {},
   "outputs": [],
   "source": []
  }
 ],
 "metadata": {
  "colab": {
   "provenance": []
  },
  "kernelspec": {
   "display_name": "Python 3 (ipykernel)",
   "language": "python",
   "name": "python3"
  },
  "language_info": {
   "codemirror_mode": {
    "name": "ipython",
    "version": 3
   },
   "file_extension": ".py",
   "mimetype": "text/x-python",
   "name": "python",
   "nbconvert_exporter": "python",
   "pygments_lexer": "ipython3",
   "version": "3.12.4"
  }
 },
 "nbformat": 4,
 "nbformat_minor": 4
}
